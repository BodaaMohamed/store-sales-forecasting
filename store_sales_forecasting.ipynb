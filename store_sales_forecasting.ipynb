{
 "cells": [
  {
   "cell_type": "markdown",
   "id": "d5f35444",
   "metadata": {},
   "source": [
    "# 📈 Time Series Forecasting: Store Sales using SARIMA\n",
    "\n",
    "This notebook demonstrates time series forecasting using SARIMA on store sales data with comparison to ARIMA and Prophet models.\n",
    "\n",
    "## Project Structure\n",
    "1. Data Loading and Preprocessing\n",
    "2. Exploratory Data Analysis (EDA)\n",
    "3. Model Development\n",
    "   - SARIMA Implementation\n",
    "   - ARIMA Baseline\n",
    "   - Prophet Comparison\n",
    "4. Model Evaluation\n",
    "5. Results Visualization"
   ]
  },
  {
   "cell_type": "markdown",
   "id": "9decea49",
   "metadata": {},
   "source": [
    "## 1. Data Loading and Preprocessing"
   ]
  },
  {
   "cell_type": "code",
   "execution_count": 3,
   "id": "735003e0",
   "metadata": {},
   "outputs": [],
   "source": [
    "import pandas as pd\n",
    "import numpy as np\n",
    "from statsmodels.tsa.statespace.sarimax import SARIMAX\n",
    "from statsmodels.tsa.arima.model import ARIMA\n",
    "from sklearn.metrics import mean_absolute_error, mean_squared_error\n",
    "from sklearn.model_selection import TimeSeriesSplit\n",
    "import matplotlib.pyplot as plt\n",
    "import seaborn as sns\n",
    "from statsmodels.graphics.tsaplots import plot_acf, plot_pacf\n",
    "import plotly.express as px\n",
    "import plotly.graph_objects as go\n",
    "from plotly.subplots import make_subplots\n",
    "from statsmodels.tsa.seasonal import seasonal_decompose\n",
    "import scipy.stats as stats\n",
    "from prophet import Prophet\n",
    "import warnings\n",
    "warnings.filterwarnings('ignore')"
   ]
  },
  {
   "cell_type": "code",
   "execution_count": 4,
   "id": "c7698c78",
   "metadata": {},
   "outputs": [],
   "source": [
    "def load_data():\n",
    "    \"\"\"Load and preprocess the store sales data\"\"\"\n",
    "    try:\n",
    "        # Load datasets\n",
    "        train_df = pd.read_csv('train.csv')\n",
    "        test_df = pd.read_csv('test.csv')\n",
    "        stores_df = pd.read_csv('stores.csv')\n",
    "        features_df = pd.read_csv('features.csv')\n",
    "        \n",
    "        # Convert date columns to datetime\n",
    "        for df in [train_df, test_df, features_df]:\n",
    "            df['Date'] = pd.to_datetime(df['Date'])\n",
    "        \n",
    "        # Merge datasets\n",
    "        train_data = train_df.merge(stores_df, on='Store', how='left')\n",
    "        train_data = train_data.merge(features_df, on=['Store', 'Date'], how='left')\n",
    "        \n",
    "        # Sort by date and handle missing values\n",
    "        train_data = train_data.sort_values('Date').ffill()\n",
    "        \n",
    "        return train_data\n",
    "    except Exception as e:\n",
    "        print(f\"Error loading data: {str(e)}\")\n",
    "        return None\n",
    "\n",
    "def prepare_time_series(data, store_id=1, dept_id=1):\n",
    "    \"\"\"Prepare time series data for a specific store and department\"\"\"\n",
    "    try:\n",
    "        # Filter data for specific store and department\n",
    "        store_data = data[(data['Store'] == store_id) & (data['Dept'] == dept_id)]\n",
    "        \n",
    "        # Set date as index\n",
    "        store_data = store_data.set_index('Date')\n",
    "        \n",
    "        # Create weekly sales time series\n",
    "        weekly_sales = store_data['Weekly_Sales'].resample('W').sum()\n",
    "        \n",
    "        return weekly_sales\n",
    "    except Exception as e:\n",
    "        print(f\"Error preparing time series: {str(e)}\")\n",
    "        return None"
   ]
  },
  {
   "cell_type": "markdown",
   "id": "fb2378a8",
   "metadata": {},
   "source": [
    "## 2. Exploratory Data Analysis"
   ]
  },
  {
   "cell_type": "code",
   "execution_count": 5,
   "id": "c37a65b0",
   "metadata": {},
   "outputs": [],
   "source": [
    "def plot_time_series(weekly_sales):\n",
    "    \"\"\"Plot the time series data with interactive visualization\"\"\"\n",
    "    fig = go.Figure()\n",
    "    fig.add_trace(go.Scatter(x=weekly_sales.index, y=weekly_sales.values,\n",
    "                           mode='lines', name='Weekly Sales'))\n",
    "    fig.update_layout(title='Weekly Sales Time Series',\n",
    "                     xaxis_title='Date',\n",
    "                     yaxis_title='Sales')\n",
    "    fig.show()\n",
    "\n",
    "def detect_seasonality(weekly_sales):\n",
    "    \"\"\"Detect seasonality in the time series\"\"\"\n",
    "    # Plot ACF and PACF\n",
    "    fig, (ax1, ax2) = plt.subplots(2, 1, figsize=(12, 8))\n",
    "    plot_acf(weekly_sales, ax=ax1, lags=52)\n",
    "    plot_pacf(weekly_sales, ax=ax2, lags=52)\n",
    "    plt.tight_layout()\n",
    "    plt.show()\n",
    "    \n",
    "    # Seasonal decomposition\n",
    "    result = seasonal_decompose(weekly_sales, model='additive', period=52)\n",
    "    fig = result.plot()\n",
    "    fig.set_size_inches(12, 8)\n",
    "    plt.show()\n",
    "    \n",
    "    return 52  # Weekly seasonality"
   ]
  },
  {
   "cell_type": "markdown",
   "id": "e41d8689",
   "metadata": {},
   "source": [
    "## 3. Model Development"
   ]
  },
  {
   "cell_type": "markdown",
   "id": "ca593c38",
   "metadata": {},
   "source": [
    "### 3.1 SARIMA Implementation"
   ]
  },
  {
   "cell_type": "code",
   "execution_count": 6,
   "id": "d201d133",
   "metadata": {},
   "outputs": [],
   "source": [
    "def grid_search_sarima(weekly_sales, seasonal_period=52):\n",
    "    \"\"\"Perform grid search with constrained parameter ranges\"\"\"\n",
    "    # Constrained parameter ranges\n",
    "    p = d = q = range(0, 2)\n",
    "    P = D = Q = range(0, 2)\n",
    "    \n",
    "    best_aic = float('inf')\n",
    "    best_params = best_seasonal_params = None\n",
    "    \n",
    "    for p1 in p:\n",
    "        for d1 in d:\n",
    "            for q1 in q:\n",
    "                for P1 in P:\n",
    "                    for D1 in D:\n",
    "                        for Q1 in Q:\n",
    "                            try:\n",
    "                                model = SARIMAX(weekly_sales, \n",
    "                                              order=(p1,d1,q1), \n",
    "                                              seasonal_order=(P1,D1,Q1,seasonal_period),\n",
    "                                              enforce_stationarity=False)\n",
    "                                results = model.fit(disp=False)\n",
    "                                \n",
    "                                if results.aic < best_aic:\n",
    "                                    best_aic = results.aic\n",
    "                                    best_params = (p1,d1,q1)\n",
    "                                    best_seasonal_params = (P1,D1,Q1,seasonal_period)\n",
    "                                    \n",
    "                            except:\n",
    "                                continue\n",
    "    \n",
    "    return best_params, best_seasonal_params\n",
    "\n",
    "def train_sarima(weekly_sales, p, d, q, P, D, Q, s):\n",
    "    \"\"\"Train SARIMA model with cross-validation\"\"\"\n",
    "    # Split data\n",
    "    train_size = int(len(weekly_sales) * 0.8)\n",
    "    train, test = weekly_sales[:train_size], weekly_sales[train_size:]\n",
    "    \n",
    "    # Validate parameters\n",
    "    min_data_needed = max(p, q, P*s, Q*s) + d + D*s + 1\n",
    "    if len(train) < min_data_needed:\n",
    "        raise ValueError(f\"Insufficient data. Need {min_data_needed} points, have {len(train)}\")\n",
    "    \n",
    "    # Train model\n",
    "    model = SARIMAX(train, \n",
    "                   order=(p,d,q), \n",
    "                   seasonal_order=(P,D,Q,s),\n",
    "                   enforce_stationarity=False)\n",
    "    \n",
    "    model_fit = model.fit(disp=False)\n",
    "    \n",
    "    # Evaluate\n",
    "    predictions = model_fit.forecast(steps=len(test))\n",
    "    mae = mean_absolute_error(test, predictions)\n",
    "    rmse = np.sqrt(mean_squared_error(test, predictions))\n",
    "    \n",
    "    return model_fit, train, test, mae, rmse"
   ]
  },
  {
   "cell_type": "markdown",
   "metadata": {},
   "source": [
    "### 3.2 ARIMA Baseline"
   ]
  },
  {
   "cell_type": "code",
   "execution_count": 7,
   "id": "13d9b989",
   "metadata": {},
   "outputs": [],
   "source": [
    "def train_arima(weekly_sales, p=2, d=1, q=2):\n",
    "    \"\"\"Train ARIMA model as baseline\"\"\"\n",
    "    train_size = int(len(weekly_sales) * 0.8)\n",
    "    train, test = weekly_sales[:train_size], weekly_sales[train_size:]\n",
    "    \n",
    "    model = ARIMA(train, order=(p,d,q))\n",
    "    model_fit = model.fit()\n",
    "    \n",
    "    predictions = model_fit.forecast(steps=len(test))\n",
    "    mae = mean_absolute_error(test, predictions)\n",
    "    rmse = np.sqrt(mean_squared_error(test, predictions))\n",
    "    \n",
    "    return model_fit, train, test, mae, rmse"
   ]
  },
  {
   "cell_type": "markdown",
   "metadata": {},
   "source": [
    "### 3.3 Prophet Model"
   ]
  },
  {
   "cell_type": "code",
   "execution_count": 8,
   "id": "cb2f03e9",
   "metadata": {},
   "outputs": [],
   "source": [
    "def train_prophet(weekly_sales):\n",
    "    \"\"\"Train Prophet model for comparison\"\"\"\n",
    "    # Prepare data\n",
    "    df = weekly_sales.reset_index()\n",
    "    df.columns = ['ds', 'y']\n",
    "    \n",
    "    train_size = int(len(df) * 0.8)\n",
    "    train, test = df.iloc[:train_size], df.iloc[train_size:]\n",
    "    \n",
    "    # Fit model\n",
    "    model = Prophet(yearly_seasonality=True, weekly_seasonality=True)\n",
    "    model.fit(train)\n",
    "    \n",
    "    # Make predictions\n",
    "    future = model.make_future_dataframe(periods=len(test), freq='W')\n",
    "    forecast = model.predict(future)\n",
    "    \n",
    "    # Evaluate\n",
    "    preds = forecast.iloc[-len(test):]['yhat'].values\n",
    "    mae = mean_absolute_error(test['y'], preds)\n",
    "    rmse = np.sqrt(mean_squared_error(test['y'], preds))\n",
    "    \n",
    "    return model, train, test, mae, rmse"
   ]
  },
  {
   "cell_type": "markdown",
   "metadata": {},
   "source": [
    "## 4. Model Evaluation and Visualization"
   ]
  },
  {
   "cell_type": "code",
   "execution_count": 9,
   "id": "867d9018",
   "metadata": {},
   "outputs": [],
   "source": [
    "def evaluate_models(weekly_sales):\n",
    "    \"\"\"Evaluate all models and compare performance\"\"\"\n",
    "    # SARIMA\n",
    "    sarima_params, seasonal_params = grid_search_sarima(weekly_sales)\n",
    "    sarima_model, sarima_train, sarima_test, sarima_mae, sarima_rmse = train_sarima(\n",
    "        weekly_sales, *sarima_params, *seasonal_params)\n",
    "    \n",
    "    # ARIMA\n",
    "    arima_model, arima_train, arima_test, arima_mae, arima_rmse = train_arima(weekly_sales)\n",
    "    \n",
    "    # Prophet\n",
    "    prophet_model, prophet_train, prophet_test, prophet_mae, prophet_rmse = train_prophet(weekly_sales)\n",
    "    \n",
    "    # Create comparison table\n",
    "    results = pd.DataFrame({\n",
    "        'Model': ['SARIMA', 'ARIMA', 'Prophet'],\n",
    "        'MAE': [sarima_mae, arima_mae, prophet_mae],\n",
    "        'RMSE': [sarima_rmse, arima_rmse, prophet_rmse]\n",
    "    })\n",
    "    \n",
    "    print(\"\\nModel Comparison:\")\n",
    "    print(results.to_markdown(index=False))\n",
    "    \n",
    "    # Plot results\n",
    "    fig = go.Figure()\n",
    "    fig.add_trace(go.Scatter(x=sarima_test.index, y=sarima_test.values, name='Actual', mode='lines'))\n",
    "    \n",
    "    # Add SARIMA predictions\n",
    "    sarima_preds = sarima_model.forecast(steps=len(sarima_test))\n",
    "    fig.add_trace(go.Scatter(x=sarima_test.index, y=sarima_preds, name='SARIMA', mode='lines'))\n",
    "    \n",
    "    # Add ARIMA predictions\n",
    "    arima_preds = arima_model.forecast(steps=len(arima_test))\n",
    "    fig.add_trace(go.Scatter(x=arima_test.index, y=arima_preds, name='ARIMA', mode='lines'))\n",
    "    \n",
    "    # Add Prophet predictions (need to align dates)\n",
    "    future = prophet_model.make_future_dataframe(periods=len(prophet_test), freq='W')\n",
    "    prophet_forecast = prophet_model.predict(future)\n",
    "    prophet_preds = prophet_forecast.iloc[-len(prophet_test):]['yhat']\n",
    "    fig.add_trace(go.Scatter(x=prophet_test['ds'], y=prophet_preds, name='Prophet', mode='lines'))\n",
    "    \n",
    "    fig.update_layout(title='Model Predictions Comparison',\n",
    "                     xaxis_title='Date',\n",
    "                     yaxis_title='Sales')\n",
    "    fig.show()\n",
    "    \n",
    "    return {\n",
    "        'sarima': (sarima_model, sarima_mae, sarima_rmse),\n",
    "        'arima': (arima_model, arima_mae, arima_rmse),\n",
    "        'prophet': (prophet_model, prophet_mae, prophet_rmse)\n",
    "    }"
   ]
  },
  {
   "cell_type": "markdown",
   "metadata": {},
   "source": [
    "## 5. Main Execution"
   ]
  },
  {
   "cell_type": "code",
   "execution_count": 11,
   "metadata": {},
   "outputs": [
    {
     "data": {
      "application/vnd.plotly.v1+json": {
       "config": {
        "plotlyServerURL": "https://plot.ly"
       },
       "data": [
        {
         "mode": "lines",
         "name": "Weekly Sales",
         "type": "scatter",
         "x": [
          "2010-02-07T00:00:00.000000000",
          "2010-02-14T00:00:00.000000000",
          "2010-02-21T00:00:00.000000000",
          "2010-02-28T00:00:00.000000000",
          "2010-03-07T00:00:00.000000000",
          "2010-03-14T00:00:00.000000000",
          "2010-03-21T00:00:00.000000000",
          "2010-03-28T00:00:00.000000000",
          "2010-04-04T00:00:00.000000000",
          "2010-04-11T00:00:00.000000000",
          "2010-04-18T00:00:00.000000000",
          "2010-04-25T00:00:00.000000000",
          "2010-05-02T00:00:00.000000000",
          "2010-05-09T00:00:00.000000000",
          "2010-05-16T00:00:00.000000000",
          "2010-05-23T00:00:00.000000000",
          "2010-05-30T00:00:00.000000000",
          "2010-06-06T00:00:00.000000000",
          "2010-06-13T00:00:00.000000000",
          "2010-06-20T00:00:00.000000000",
          "2010-06-27T00:00:00.000000000",
          "2010-07-04T00:00:00.000000000",
          "2010-07-11T00:00:00.000000000",
          "2010-07-18T00:00:00.000000000",
          "2010-07-25T00:00:00.000000000",
          "2010-08-01T00:00:00.000000000",
          "2010-08-08T00:00:00.000000000",
          "2010-08-15T00:00:00.000000000",
          "2010-08-22T00:00:00.000000000",
          "2010-08-29T00:00:00.000000000",
          "2010-09-05T00:00:00.000000000",
          "2010-09-12T00:00:00.000000000",
          "2010-09-19T00:00:00.000000000",
          "2010-09-26T00:00:00.000000000",
          "2010-10-03T00:00:00.000000000",
          "2010-10-10T00:00:00.000000000",
          "2010-10-17T00:00:00.000000000",
          "2010-10-24T00:00:00.000000000",
          "2010-10-31T00:00:00.000000000",
          "2010-11-07T00:00:00.000000000",
          "2010-11-14T00:00:00.000000000",
          "2010-11-21T00:00:00.000000000",
          "2010-11-28T00:00:00.000000000",
          "2010-12-05T00:00:00.000000000",
          "2010-12-12T00:00:00.000000000",
          "2010-12-19T00:00:00.000000000",
          "2010-12-26T00:00:00.000000000",
          "2011-01-02T00:00:00.000000000",
          "2011-01-09T00:00:00.000000000",
          "2011-01-16T00:00:00.000000000",
          "2011-01-23T00:00:00.000000000",
          "2011-01-30T00:00:00.000000000",
          "2011-02-06T00:00:00.000000000",
          "2011-02-13T00:00:00.000000000",
          "2011-02-20T00:00:00.000000000",
          "2011-02-27T00:00:00.000000000",
          "2011-03-06T00:00:00.000000000",
          "2011-03-13T00:00:00.000000000",
          "2011-03-20T00:00:00.000000000",
          "2011-03-27T00:00:00.000000000",
          "2011-04-03T00:00:00.000000000",
          "2011-04-10T00:00:00.000000000",
          "2011-04-17T00:00:00.000000000",
          "2011-04-24T00:00:00.000000000",
          "2011-05-01T00:00:00.000000000",
          "2011-05-08T00:00:00.000000000",
          "2011-05-15T00:00:00.000000000",
          "2011-05-22T00:00:00.000000000",
          "2011-05-29T00:00:00.000000000",
          "2011-06-05T00:00:00.000000000",
          "2011-06-12T00:00:00.000000000",
          "2011-06-19T00:00:00.000000000",
          "2011-06-26T00:00:00.000000000",
          "2011-07-03T00:00:00.000000000",
          "2011-07-10T00:00:00.000000000",
          "2011-07-17T00:00:00.000000000",
          "2011-07-24T00:00:00.000000000",
          "2011-07-31T00:00:00.000000000",
          "2011-08-07T00:00:00.000000000",
          "2011-08-14T00:00:00.000000000",
          "2011-08-21T00:00:00.000000000",
          "2011-08-28T00:00:00.000000000",
          "2011-09-04T00:00:00.000000000",
          "2011-09-11T00:00:00.000000000",
          "2011-09-18T00:00:00.000000000",
          "2011-09-25T00:00:00.000000000",
          "2011-10-02T00:00:00.000000000",
          "2011-10-09T00:00:00.000000000",
          "2011-10-16T00:00:00.000000000",
          "2011-10-23T00:00:00.000000000",
          "2011-10-30T00:00:00.000000000",
          "2011-11-06T00:00:00.000000000",
          "2011-11-13T00:00:00.000000000",
          "2011-11-20T00:00:00.000000000",
          "2011-11-27T00:00:00.000000000",
          "2011-12-04T00:00:00.000000000",
          "2011-12-11T00:00:00.000000000",
          "2011-12-18T00:00:00.000000000",
          "2011-12-25T00:00:00.000000000",
          "2012-01-01T00:00:00.000000000",
          "2012-01-08T00:00:00.000000000",
          "2012-01-15T00:00:00.000000000",
          "2012-01-22T00:00:00.000000000",
          "2012-01-29T00:00:00.000000000",
          "2012-02-05T00:00:00.000000000",
          "2012-02-12T00:00:00.000000000",
          "2012-02-19T00:00:00.000000000",
          "2012-02-26T00:00:00.000000000",
          "2012-03-04T00:00:00.000000000",
          "2012-03-11T00:00:00.000000000",
          "2012-03-18T00:00:00.000000000",
          "2012-03-25T00:00:00.000000000",
          "2012-04-01T00:00:00.000000000",
          "2012-04-08T00:00:00.000000000",
          "2012-04-15T00:00:00.000000000",
          "2012-04-22T00:00:00.000000000",
          "2012-04-29T00:00:00.000000000",
          "2012-05-06T00:00:00.000000000",
          "2012-05-13T00:00:00.000000000",
          "2012-05-20T00:00:00.000000000",
          "2012-05-27T00:00:00.000000000",
          "2012-06-03T00:00:00.000000000",
          "2012-06-10T00:00:00.000000000",
          "2012-06-17T00:00:00.000000000",
          "2012-06-24T00:00:00.000000000",
          "2012-07-01T00:00:00.000000000",
          "2012-07-08T00:00:00.000000000",
          "2012-07-15T00:00:00.000000000",
          "2012-07-22T00:00:00.000000000",
          "2012-07-29T00:00:00.000000000",
          "2012-08-05T00:00:00.000000000",
          "2012-08-12T00:00:00.000000000",
          "2012-08-19T00:00:00.000000000",
          "2012-08-26T00:00:00.000000000",
          "2012-09-02T00:00:00.000000000",
          "2012-09-09T00:00:00.000000000",
          "2012-09-16T00:00:00.000000000",
          "2012-09-23T00:00:00.000000000",
          "2012-09-30T00:00:00.000000000",
          "2012-10-07T00:00:00.000000000",
          "2012-10-14T00:00:00.000000000",
          "2012-10-21T00:00:00.000000000",
          "2012-10-28T00:00:00.000000000"
         ],
         "y": {
          "bdata": "AAAAACBX2EDhehSu73rmQJqZmZlxT+RA9ihcj+Ly0kCamZmZ+VDVQFyPwvXYjNRAXI/C9Sie1UAK16NwTZ3ZQClcj8JN9etA7FG4Hh365EAK16NwPS/RQM3MzMysiM9ApHA9Cscq0ECPwvUofAHRQMP1KFyve9JA7FG4HoXazECkcD0KN27OQClcj8KFJdFA4XoUrmc/0ED2KFyPIqzPQI/C9Shc5M9AuB6F65Hmz0A9CtejMEbRQClcj8K1v9BAmpmZmTkAzkBcj8L16ArOQNejcD0aGdFAMzMzMzNYzkA9CtejEL7OQMP1KFzv2M5AcT0K1+O4z0DD9Shcr8TRQIXrUbiO5tJAexSuR6Gy0UCPwvUojJ/TQLgehesB19ZAKVyPwpVY2kD2KFyPwvHYQClcj8Id3uJAj8L1KNy34EBcj8L1WBfTQClcj8I1GNNA9ihcjxJh0kBxPQrXY/3VQJqZmZlpwt5AUrgehRvu5UDD9ShcZ0/rQOxRuB4lrdJAhetRuB44z0DNzMzM7PPQQEjhehRe79BAUrgehUsH0kA9CtejcCjVQArXo3Dlf+JAcT0K17vf5kDsUbge9ejSQKRwPQrn2dNAmpmZmRnI1ECF61G4jtvTQGZmZmZGZNRAKVyPwoXr00D2KFyPclDXQOF6FK6XFtxAuB6F68mp6ECuR+F6DEXkQI/C9SiMqtNAmpmZmcnU0EBxPQrXY5DNQM3MzMzMvs5AmpmZmYkM0ED2KFyPwgXPQFK4HoULQc1A4XoUrmehzkAAAAAAwAHOQMP1KFxvis9AzczMzGyTzkDNzMzMTMvOQK5H4Xo0Gc9AZmZmZsbfzUDsUbge5WXMQIXrUbiesMxAw/UoXK9kzED2KFyPotbNQFK4HoWrVNFAhetRuN4Z0kAzMzMz03DRQFK4HoVr6NFA7FG4HmVP1EAzMzMzY4nWQDMzMzPzzdZAmpmZmfnW3kC4HoXrwXnjQPYoXI9iQNJA16NwPaqa0kAAAAAA0GvUQMP1KFxfs9hACtejcD1D4EBcj8L1oFnmQAAAAACY2OZAH4XrUbjN1kCPwvUo7C3QQJqZmZmZf9BAZmZmZkbv0UDXo3A9ivLRQMP1KFyf9dZA4XoUro8P4kAzMzMzg2XqQEjhehQOp9NAuB6F60Gk00CuR+F6BKXUQB+F61G419VAzczMzOyW1UCkcD0KN0bcQHE9CtcDH+xAhetRuIbv4ECPwvUoDJTQQM3MzMzM7c9Aj8L1KNy+0EDNzMzMDL3RQPYoXI9yFdJAMzMzM+OQ0ECF61G4vmDPQAAAAACAQNFArkfherQl0UDXo3A9Wj7QQFyPwvVotc5A4XoUrtdn0UBSuB6Fiy3QQOF6FK4H7s9ApHA9Cpe5zkBxPQrXEz3QQClcj8L1e89AzczMzKzs0EAzMzMzM8/PQMP1KFwPStBA4XoUrpfk0UBI4XoUDijTQAAAAADgzNJAcT0K1/OA0kBI4XoUHmTVQD0K16MAO9ZAexSuR1Ge10BxPQrXs7/aQA==",
          "dtype": "f8"
         }
        }
       ],
       "layout": {
        "template": {
         "data": {
          "bar": [
           {
            "error_x": {
             "color": "#2a3f5f"
            },
            "error_y": {
             "color": "#2a3f5f"
            },
            "marker": {
             "line": {
              "color": "#E5ECF6",
              "width": 0.5
             },
             "pattern": {
              "fillmode": "overlay",
              "size": 10,
              "solidity": 0.2
             }
            },
            "type": "bar"
           }
          ],
          "barpolar": [
           {
            "marker": {
             "line": {
              "color": "#E5ECF6",
              "width": 0.5
             },
             "pattern": {
              "fillmode": "overlay",
              "size": 10,
              "solidity": 0.2
             }
            },
            "type": "barpolar"
           }
          ],
          "carpet": [
           {
            "aaxis": {
             "endlinecolor": "#2a3f5f",
             "gridcolor": "white",
             "linecolor": "white",
             "minorgridcolor": "white",
             "startlinecolor": "#2a3f5f"
            },
            "baxis": {
             "endlinecolor": "#2a3f5f",
             "gridcolor": "white",
             "linecolor": "white",
             "minorgridcolor": "white",
             "startlinecolor": "#2a3f5f"
            },
            "type": "carpet"
           }
          ],
          "choropleth": [
           {
            "colorbar": {
             "outlinewidth": 0,
             "ticks": ""
            },
            "type": "choropleth"
           }
          ],
          "contour": [
           {
            "colorbar": {
             "outlinewidth": 0,
             "ticks": ""
            },
            "colorscale": [
             [
              0,
              "#0d0887"
             ],
             [
              0.1111111111111111,
              "#46039f"
             ],
             [
              0.2222222222222222,
              "#7201a8"
             ],
             [
              0.3333333333333333,
              "#9c179e"
             ],
             [
              0.4444444444444444,
              "#bd3786"
             ],
             [
              0.5555555555555556,
              "#d8576b"
             ],
             [
              0.6666666666666666,
              "#ed7953"
             ],
             [
              0.7777777777777778,
              "#fb9f3a"
             ],
             [
              0.8888888888888888,
              "#fdca26"
             ],
             [
              1,
              "#f0f921"
             ]
            ],
            "type": "contour"
           }
          ],
          "contourcarpet": [
           {
            "colorbar": {
             "outlinewidth": 0,
             "ticks": ""
            },
            "type": "contourcarpet"
           }
          ],
          "heatmap": [
           {
            "colorbar": {
             "outlinewidth": 0,
             "ticks": ""
            },
            "colorscale": [
             [
              0,
              "#0d0887"
             ],
             [
              0.1111111111111111,
              "#46039f"
             ],
             [
              0.2222222222222222,
              "#7201a8"
             ],
             [
              0.3333333333333333,
              "#9c179e"
             ],
             [
              0.4444444444444444,
              "#bd3786"
             ],
             [
              0.5555555555555556,
              "#d8576b"
             ],
             [
              0.6666666666666666,
              "#ed7953"
             ],
             [
              0.7777777777777778,
              "#fb9f3a"
             ],
             [
              0.8888888888888888,
              "#fdca26"
             ],
             [
              1,
              "#f0f921"
             ]
            ],
            "type": "heatmap"
           }
          ],
          "histogram": [
           {
            "marker": {
             "pattern": {
              "fillmode": "overlay",
              "size": 10,
              "solidity": 0.2
             }
            },
            "type": "histogram"
           }
          ],
          "histogram2d": [
           {
            "colorbar": {
             "outlinewidth": 0,
             "ticks": ""
            },
            "colorscale": [
             [
              0,
              "#0d0887"
             ],
             [
              0.1111111111111111,
              "#46039f"
             ],
             [
              0.2222222222222222,
              "#7201a8"
             ],
             [
              0.3333333333333333,
              "#9c179e"
             ],
             [
              0.4444444444444444,
              "#bd3786"
             ],
             [
              0.5555555555555556,
              "#d8576b"
             ],
             [
              0.6666666666666666,
              "#ed7953"
             ],
             [
              0.7777777777777778,
              "#fb9f3a"
             ],
             [
              0.8888888888888888,
              "#fdca26"
             ],
             [
              1,
              "#f0f921"
             ]
            ],
            "type": "histogram2d"
           }
          ],
          "histogram2dcontour": [
           {
            "colorbar": {
             "outlinewidth": 0,
             "ticks": ""
            },
            "colorscale": [
             [
              0,
              "#0d0887"
             ],
             [
              0.1111111111111111,
              "#46039f"
             ],
             [
              0.2222222222222222,
              "#7201a8"
             ],
             [
              0.3333333333333333,
              "#9c179e"
             ],
             [
              0.4444444444444444,
              "#bd3786"
             ],
             [
              0.5555555555555556,
              "#d8576b"
             ],
             [
              0.6666666666666666,
              "#ed7953"
             ],
             [
              0.7777777777777778,
              "#fb9f3a"
             ],
             [
              0.8888888888888888,
              "#fdca26"
             ],
             [
              1,
              "#f0f921"
             ]
            ],
            "type": "histogram2dcontour"
           }
          ],
          "mesh3d": [
           {
            "colorbar": {
             "outlinewidth": 0,
             "ticks": ""
            },
            "type": "mesh3d"
           }
          ],
          "parcoords": [
           {
            "line": {
             "colorbar": {
              "outlinewidth": 0,
              "ticks": ""
             }
            },
            "type": "parcoords"
           }
          ],
          "pie": [
           {
            "automargin": true,
            "type": "pie"
           }
          ],
          "scatter": [
           {
            "fillpattern": {
             "fillmode": "overlay",
             "size": 10,
             "solidity": 0.2
            },
            "type": "scatter"
           }
          ],
          "scatter3d": [
           {
            "line": {
             "colorbar": {
              "outlinewidth": 0,
              "ticks": ""
             }
            },
            "marker": {
             "colorbar": {
              "outlinewidth": 0,
              "ticks": ""
             }
            },
            "type": "scatter3d"
           }
          ],
          "scattercarpet": [
           {
            "marker": {
             "colorbar": {
              "outlinewidth": 0,
              "ticks": ""
             }
            },
            "type": "scattercarpet"
           }
          ],
          "scattergeo": [
           {
            "marker": {
             "colorbar": {
              "outlinewidth": 0,
              "ticks": ""
             }
            },
            "type": "scattergeo"
           }
          ],
          "scattergl": [
           {
            "marker": {
             "colorbar": {
              "outlinewidth": 0,
              "ticks": ""
             }
            },
            "type": "scattergl"
           }
          ],
          "scattermap": [
           {
            "marker": {
             "colorbar": {
              "outlinewidth": 0,
              "ticks": ""
             }
            },
            "type": "scattermap"
           }
          ],
          "scattermapbox": [
           {
            "marker": {
             "colorbar": {
              "outlinewidth": 0,
              "ticks": ""
             }
            },
            "type": "scattermapbox"
           }
          ],
          "scatterpolar": [
           {
            "marker": {
             "colorbar": {
              "outlinewidth": 0,
              "ticks": ""
             }
            },
            "type": "scatterpolar"
           }
          ],
          "scatterpolargl": [
           {
            "marker": {
             "colorbar": {
              "outlinewidth": 0,
              "ticks": ""
             }
            },
            "type": "scatterpolargl"
           }
          ],
          "scatterternary": [
           {
            "marker": {
             "colorbar": {
              "outlinewidth": 0,
              "ticks": ""
             }
            },
            "type": "scatterternary"
           }
          ],
          "surface": [
           {
            "colorbar": {
             "outlinewidth": 0,
             "ticks": ""
            },
            "colorscale": [
             [
              0,
              "#0d0887"
             ],
             [
              0.1111111111111111,
              "#46039f"
             ],
             [
              0.2222222222222222,
              "#7201a8"
             ],
             [
              0.3333333333333333,
              "#9c179e"
             ],
             [
              0.4444444444444444,
              "#bd3786"
             ],
             [
              0.5555555555555556,
              "#d8576b"
             ],
             [
              0.6666666666666666,
              "#ed7953"
             ],
             [
              0.7777777777777778,
              "#fb9f3a"
             ],
             [
              0.8888888888888888,
              "#fdca26"
             ],
             [
              1,
              "#f0f921"
             ]
            ],
            "type": "surface"
           }
          ],
          "table": [
           {
            "cells": {
             "fill": {
              "color": "#EBF0F8"
             },
             "line": {
              "color": "white"
             }
            },
            "header": {
             "fill": {
              "color": "#C8D4E3"
             },
             "line": {
              "color": "white"
             }
            },
            "type": "table"
           }
          ]
         },
         "layout": {
          "annotationdefaults": {
           "arrowcolor": "#2a3f5f",
           "arrowhead": 0,
           "arrowwidth": 1
          },
          "autotypenumbers": "strict",
          "coloraxis": {
           "colorbar": {
            "outlinewidth": 0,
            "ticks": ""
           }
          },
          "colorscale": {
           "diverging": [
            [
             0,
             "#8e0152"
            ],
            [
             0.1,
             "#c51b7d"
            ],
            [
             0.2,
             "#de77ae"
            ],
            [
             0.3,
             "#f1b6da"
            ],
            [
             0.4,
             "#fde0ef"
            ],
            [
             0.5,
             "#f7f7f7"
            ],
            [
             0.6,
             "#e6f5d0"
            ],
            [
             0.7,
             "#b8e186"
            ],
            [
             0.8,
             "#7fbc41"
            ],
            [
             0.9,
             "#4d9221"
            ],
            [
             1,
             "#276419"
            ]
           ],
           "sequential": [
            [
             0,
             "#0d0887"
            ],
            [
             0.1111111111111111,
             "#46039f"
            ],
            [
             0.2222222222222222,
             "#7201a8"
            ],
            [
             0.3333333333333333,
             "#9c179e"
            ],
            [
             0.4444444444444444,
             "#bd3786"
            ],
            [
             0.5555555555555556,
             "#d8576b"
            ],
            [
             0.6666666666666666,
             "#ed7953"
            ],
            [
             0.7777777777777778,
             "#fb9f3a"
            ],
            [
             0.8888888888888888,
             "#fdca26"
            ],
            [
             1,
             "#f0f921"
            ]
           ],
           "sequentialminus": [
            [
             0,
             "#0d0887"
            ],
            [
             0.1111111111111111,
             "#46039f"
            ],
            [
             0.2222222222222222,
             "#7201a8"
            ],
            [
             0.3333333333333333,
             "#9c179e"
            ],
            [
             0.4444444444444444,
             "#bd3786"
            ],
            [
             0.5555555555555556,
             "#d8576b"
            ],
            [
             0.6666666666666666,
             "#ed7953"
            ],
            [
             0.7777777777777778,
             "#fb9f3a"
            ],
            [
             0.8888888888888888,
             "#fdca26"
            ],
            [
             1,
             "#f0f921"
            ]
           ]
          },
          "colorway": [
           "#636efa",
           "#EF553B",
           "#00cc96",
           "#ab63fa",
           "#FFA15A",
           "#19d3f3",
           "#FF6692",
           "#B6E880",
           "#FF97FF",
           "#FECB52"
          ],
          "font": {
           "color": "#2a3f5f"
          },
          "geo": {
           "bgcolor": "white",
           "lakecolor": "white",
           "landcolor": "#E5ECF6",
           "showlakes": true,
           "showland": true,
           "subunitcolor": "white"
          },
          "hoverlabel": {
           "align": "left"
          },
          "hovermode": "closest",
          "mapbox": {
           "style": "light"
          },
          "paper_bgcolor": "white",
          "plot_bgcolor": "#E5ECF6",
          "polar": {
           "angularaxis": {
            "gridcolor": "white",
            "linecolor": "white",
            "ticks": ""
           },
           "bgcolor": "#E5ECF6",
           "radialaxis": {
            "gridcolor": "white",
            "linecolor": "white",
            "ticks": ""
           }
          },
          "scene": {
           "xaxis": {
            "backgroundcolor": "#E5ECF6",
            "gridcolor": "white",
            "gridwidth": 2,
            "linecolor": "white",
            "showbackground": true,
            "ticks": "",
            "zerolinecolor": "white"
           },
           "yaxis": {
            "backgroundcolor": "#E5ECF6",
            "gridcolor": "white",
            "gridwidth": 2,
            "linecolor": "white",
            "showbackground": true,
            "ticks": "",
            "zerolinecolor": "white"
           },
           "zaxis": {
            "backgroundcolor": "#E5ECF6",
            "gridcolor": "white",
            "gridwidth": 2,
            "linecolor": "white",
            "showbackground": true,
            "ticks": "",
            "zerolinecolor": "white"
           }
          },
          "shapedefaults": {
           "line": {
            "color": "#2a3f5f"
           }
          },
          "ternary": {
           "aaxis": {
            "gridcolor": "white",
            "linecolor": "white",
            "ticks": ""
           },
           "baxis": {
            "gridcolor": "white",
            "linecolor": "white",
            "ticks": ""
           },
           "bgcolor": "#E5ECF6",
           "caxis": {
            "gridcolor": "white",
            "linecolor": "white",
            "ticks": ""
           }
          },
          "title": {
           "x": 0.05
          },
          "xaxis": {
           "automargin": true,
           "gridcolor": "white",
           "linecolor": "white",
           "ticks": "",
           "title": {
            "standoff": 15
           },
           "zerolinecolor": "white",
           "zerolinewidth": 2
          },
          "yaxis": {
           "automargin": true,
           "gridcolor": "white",
           "linecolor": "white",
           "ticks": "",
           "title": {
            "standoff": 15
           },
           "zerolinecolor": "white",
           "zerolinewidth": 2
          }
         }
        },
        "title": {
         "text": "Weekly Sales Time Series"
        },
        "xaxis": {
         "title": {
          "text": "Date"
         }
        },
        "yaxis": {
         "title": {
          "text": "Sales"
         }
        }
       }
      }
     },
     "metadata": {},
     "output_type": "display_data"
    },
    {
     "data": {
      "image/png": "[encoded data removed]",
      "text/plain": [
       "<Figure size 1200x800 with 2 Axes>"
      ]
     },
     "metadata": {},
     "output_type": "display_data"
    },
    {
     "data": {
      "image/png": "[encoded data removed]",
      "text/plain": [
       "<Figure size 1200x800 with 4 Axes>"
      ]
     },
     "metadata": {},
     "output_type": "display_data"
    },
    {
     "name": "stderr",
     "output_type": "stream",
     "text": [
      "09:08:03 - cmdstanpy - INFO - Chain [1] start processing\n",
      "09:08:04 - cmdstanpy - INFO - Chain [1] done processing\n"
     ]
    },
    {
     "name": "stdout",
     "output_type": "stream",
     "text": [
      "\n",
      "Model Comparison:\n",
      "| Model   |     MAE |     RMSE |\n",
      "|:--------|--------:|---------:|\n",
      "| SARIMA  | 46174.8 | 47124.4  |\n",
      "| ARIMA   | 18078.2 | 18650    |\n",
      "| Prophet |  2169.3 |  3969.71 |\n"
     ]
    },
    {
     "data": {
      "application/vnd.plotly.v1+json": {
       "config": {
        "plotlyServerURL": "https://plot.ly"
       },
       "data": [
        {
         "mode": "lines",
         "name": "Actual",
         "type": "scatter",
         "x": [
          "2012-04-15T00:00:00.000000000",
          "2012-04-22T00:00:00.000000000",
          "2012-04-29T00:00:00.000000000",
          "2012-05-06T00:00:00.000000000",
          "2012-05-13T00:00:00.000000000",
          "2012-05-20T00:00:00.000000000",
          "2012-05-27T00:00:00.000000000",
          "2012-06-03T00:00:00.000000000",
          "2012-06-10T00:00:00.000000000",
          "2012-06-17T00:00:00.000000000",
          "2012-06-24T00:00:00.000000000",
          "2012-07-01T00:00:00.000000000",
          "2012-07-08T00:00:00.000000000",
          "2012-07-15T00:00:00.000000000",
          "2012-07-22T00:00:00.000000000",
          "2012-07-29T00:00:00.000000000",
          "2012-08-05T00:00:00.000000000",
          "2012-08-12T00:00:00.000000000",
          "2012-08-19T00:00:00.000000000",
          "2012-08-26T00:00:00.000000000",
          "2012-09-02T00:00:00.000000000",
          "2012-09-09T00:00:00.000000000",
          "2012-09-16T00:00:00.000000000",
          "2012-09-23T00:00:00.000000000",
          "2012-09-30T00:00:00.000000000",
          "2012-10-07T00:00:00.000000000",
          "2012-10-14T00:00:00.000000000",
          "2012-10-21T00:00:00.000000000",
          "2012-10-28T00:00:00.000000000"
         ],
         "y": {
          "bdata": "hetRuIbv4ECPwvUoDJTQQM3MzMzM7c9Aj8L1KNy+0EDNzMzMDL3RQPYoXI9yFdJAMzMzM+OQ0ECF61G4vmDPQAAAAACAQNFArkfherQl0UDXo3A9Wj7QQFyPwvVotc5A4XoUrtdn0UBSuB6Fiy3QQOF6FK4H7s9ApHA9Cpe5zkBxPQrXEz3QQClcj8L1e89AzczMzKzs0EAzMzMzM8/PQMP1KFwPStBA4XoUrpfk0UBI4XoUDijTQAAAAADgzNJAcT0K1/OA0kBI4XoUHmTVQD0K16MAO9ZAexSuR1Ge10BxPQrXs7/aQA==",
          "dtype": "f8"
         }
        },
        {
         "mode": "lines",
         "name": "SARIMA",
         "type": "scatter",
         "x": [
          "2012-04-15T00:00:00.000000000",
          "2012-04-22T00:00:00.000000000",
          "2012-04-29T00:00:00.000000000",
          "2012-05-06T00:00:00.000000000",
          "2012-05-13T00:00:00.000000000",
          "2012-05-20T00:00:00.000000000",
          "2012-05-27T00:00:00.000000000",
          "2012-06-03T00:00:00.000000000",
          "2012-06-10T00:00:00.000000000",
          "2012-06-17T00:00:00.000000000",
          "2012-06-24T00:00:00.000000000",
          "2012-07-01T00:00:00.000000000",
          "2012-07-08T00:00:00.000000000",
          "2012-07-15T00:00:00.000000000",
          "2012-07-22T00:00:00.000000000",
          "2012-07-29T00:00:00.000000000",
          "2012-08-05T00:00:00.000000000",
          "2012-08-12T00:00:00.000000000",
          "2012-08-19T00:00:00.000000000",
          "2012-08-26T00:00:00.000000000",
          "2012-09-02T00:00:00.000000000",
          "2012-09-09T00:00:00.000000000",
          "2012-09-16T00:00:00.000000000",
          "2012-09-23T00:00:00.000000000",
          "2012-09-30T00:00:00.000000000",
          "2012-10-07T00:00:00.000000000",
          "2012-10-14T00:00:00.000000000",
          "2012-10-21T00:00:00.000000000",
          "2012-10-28T00:00:00.000000000"
         ],
         "y": {
          "bdata": "PrWW/KJ/8kAMHIEXZO34QALP7dFOR/ZAbsm9q7v870AS3Cu2Qx/uQH5g/sk5Xu1AOEbvS0yh7UAwn9QvSc/tQMSndE+wl+1AQ9RkYrsc7UDVFZyTwILtQFH26CfZUu1AAGGzm9mg7UCvaV1zp2btQO//uDBqq+1AU8ZkoPHB7UCRVjYgxCbtQC6xLozi7uxA1oNVZ3//7ECtZaZsJ+fsQLV4HOKrSO1A+u89xruA7kDMRNZc/dTuQJVz4WuGk+5Amk91Rumh7kD1DCFhObHvQGF4T4sJT/BAUfgbmch38EA/FO+zlCDyQA==",
          "dtype": "f8"
         }
        },
        {
         "mode": "lines",
         "name": "ARIMA",
         "type": "scatter",
         "x": [
          "2012-04-15T00:00:00.000000000",
          "2012-04-22T00:00:00.000000000",
          "2012-04-29T00:00:00.000000000",
          "2012-05-06T00:00:00.000000000",
          "2012-05-13T00:00:00.000000000",
          "2012-05-20T00:00:00.000000000",
          "2012-05-27T00:00:00.000000000",
          "2012-06-03T00:00:00.000000000",
          "2012-06-10T00:00:00.000000000",
          "2012-06-17T00:00:00.000000000",
          "2012-06-24T00:00:00.000000000",
          "2012-07-01T00:00:00.000000000",
          "2012-07-08T00:00:00.000000000",
          "2012-07-15T00:00:00.000000000",
          "2012-07-22T00:00:00.000000000",
          "2012-07-29T00:00:00.000000000",
          "2012-08-05T00:00:00.000000000",
          "2012-08-12T00:00:00.000000000",
          "2012-08-19T00:00:00.000000000",
          "2012-08-26T00:00:00.000000000",
          "2012-09-02T00:00:00.000000000",
          "2012-09-09T00:00:00.000000000",
          "2012-09-16T00:00:00.000000000",
          "2012-09-23T00:00:00.000000000",
          "2012-09-30T00:00:00.000000000",
          "2012-10-07T00:00:00.000000000",
          "2012-10-14T00:00:00.000000000",
          "2012-10-21T00:00:00.000000000",
          "2012-10-28T00:00:00.000000000"
         ],
         "y": {
          "bdata": "YWwwogay6EBMg2JDha/iQHGqEwS2mNtAS9+zEY6M2ECW7g5JVy7cQHoQqTM9g+FANGkfSuhl5ECTnCejtmTlQIlvXDPNcORAXt2H+Ql/4kDyUz4K98vgQKq3PcQEKOBAGbIVmWWm4EA3pD5fksDhQPqNI/g/wOJAGg50aHUo40A/taQK/ufiQJEiC7VoSOJAAGe4+3uy4UBY3UbK6HDhQNEzIOMjkeFAoK5waCvr4UDEg/lP5ULiQFxxQ73Pa+JAlcbHESBc4kC06LdmdyniQAW8Ybo99uFA3yB6geXc4UAvsPCnPuThQA==",
          "dtype": "f8"
         }
        },
        {
         "mode": "lines",
         "name": "Prophet",
         "type": "scatter",
         "x": [
          "2012-04-15T00:00:00.000000000",
          "2012-04-22T00:00:00.000000000",
          "2012-04-29T00:00:00.000000000",
          "2012-05-06T00:00:00.000000000",
          "2012-05-13T00:00:00.000000000",
          "2012-05-20T00:00:00.000000000",
          "2012-05-27T00:00:00.000000000",
          "2012-06-03T00:00:00.000000000",
          "2012-06-10T00:00:00.000000000",
          "2012-06-17T00:00:00.000000000",
          "2012-06-24T00:00:00.000000000",
          "2012-07-01T00:00:00.000000000",
          "2012-07-08T00:00:00.000000000",
          "2012-07-15T00:00:00.000000000",
          "2012-07-22T00:00:00.000000000",
          "2012-07-29T00:00:00.000000000",
          "2012-08-05T00:00:00.000000000",
          "2012-08-12T00:00:00.000000000",
          "2012-08-19T00:00:00.000000000",
          "2012-08-26T00:00:00.000000000",
          "2012-09-02T00:00:00.000000000",
          "2012-09-09T00:00:00.000000000",
          "2012-09-16T00:00:00.000000000",
          "2012-09-23T00:00:00.000000000",
          "2012-09-30T00:00:00.000000000",
          "2012-10-07T00:00:00.000000000",
          "2012-10-14T00:00:00.000000000",
          "2012-10-21T00:00:00.000000000",
          "2012-10-28T00:00:00.000000000"
         ],
         "y": {
          "bdata": "KLWRa1p34UA9xDH4eMjeQIlAxyZ5mNpArhs5jw/C1kAhzJCzdhDTQOAO++K6N9BApTzOTaypzkAyzF5GaUbQQGIRFxluZdFANABsF61A0UBqIKNl8DHQQN7HeMK/eM9AKMjJ8IiC0EB2w+49jnfRQJDDhfrPS9FAmp+SAvAl0EB1xxQjicHOQPu10T2Sbc9AkEAoRIlg0EBe83JdQlnQQAyjKujL+c9ATRsmIh2g0ECv61CljozSQInpvmePP9RAqSzDKcVd1EAfYNHPiQnUQKGD/mIhKtZAEbLxy+e620D3mPPU6LDgQA==",
          "dtype": "f8"
         }
        }
       ],
       "layout": {
        "template": {
         "data": {
          "bar": [
           {
            "error_x": {
             "color": "#2a3f5f"
            },
            "error_y": {
             "color": "#2a3f5f"
            },
            "marker": {
             "line": {
              "color": "#E5ECF6",
              "width": 0.5
             },
             "pattern": {
              "fillmode": "overlay",
              "size": 10,
              "solidity": 0.2
             }
            },
            "type": "bar"
           }
          ],
          "barpolar": [
           {
            "marker": {
             "line": {
              "color": "#E5ECF6",
              "width": 0.5
             },
             "pattern": {
              "fillmode": "overlay",
              "size": 10,
              "solidity": 0.2
             }
            },
            "type": "barpolar"
           }
          ],
          "carpet": [
           {
            "aaxis": {
             "endlinecolor": "#2a3f5f",
             "gridcolor": "white",
             "linecolor": "white",
             "minorgridcolor": "white",
             "startlinecolor": "#2a3f5f"
            },
            "baxis": {
             "endlinecolor": "#2a3f5f",
             "gridcolor": "white",
             "linecolor": "white",
             "minorgridcolor": "white",
             "startlinecolor": "#2a3f5f"
            },
            "type": "carpet"
           }
          ],
          "choropleth": [
           {
            "colorbar": {
             "outlinewidth": 0,
             "ticks": ""
            },
            "type": "choropleth"
           }
          ],
          "contour": [
           {
            "colorbar": {
             "outlinewidth": 0,
             "ticks": ""
            },
            "colorscale": [
             [
              0,
              "#0d0887"
             ],
             [
              0.1111111111111111,
              "#46039f"
             ],
             [
              0.2222222222222222,
              "#7201a8"
             ],
             [
              0.3333333333333333,
              "#9c179e"
             ],
             [
              0.4444444444444444,
              "#bd3786"
             ],
             [
              0.5555555555555556,
              "#d8576b"
             ],
             [
              0.6666666666666666,
              "#ed7953"
             ],
             [
              0.7777777777777778,
              "#fb9f3a"
             ],
             [
              0.8888888888888888,
              "#fdca26"
             ],
             [
              1,
              "#f0f921"
             ]
            ],
            "type": "contour"
           }
          ],
          "contourcarpet": [
           {
            "colorbar": {
             "outlinewidth": 0,
             "ticks": ""
            },
            "type": "contourcarpet"
           }
          ],
          "heatmap": [
           {
            "colorbar": {
             "outlinewidth": 0,
             "ticks": ""
            },
            "colorscale": [
             [
              0,
              "#0d0887"
             ],
             [
              0.1111111111111111,
              "#46039f"
             ],
             [
              0.2222222222222222,
              "#7201a8"
             ],
             [
              0.3333333333333333,
              "#9c179e"
             ],
             [
              0.4444444444444444,
              "#bd3786"
             ],
             [
              0.5555555555555556,
              "#d8576b"
             ],
             [
              0.6666666666666666,
              "#ed7953"
             ],
             [
              0.7777777777777778,
              "#fb9f3a"
             ],
             [
              0.8888888888888888,
              "#fdca26"
             ],
             [
              1,
              "#f0f921"
             ]
            ],
            "type": "heatmap"
           }
          ],
          "histogram": [
           {
            "marker": {
             "pattern": {
              "fillmode": "overlay",
              "size": 10,
              "solidity": 0.2
             }
            },
            "type": "histogram"
           }
          ],
          "histogram2d": [
           {
            "colorbar": {
             "outlinewidth": 0,
             "ticks": ""
            },
            "colorscale": [
             [
              0,
              "#0d0887"
             ],
             [
              0.1111111111111111,
              "#46039f"
             ],
             [
              0.2222222222222222,
              "#7201a8"
             ],
             [
              0.3333333333333333,
              "#9c179e"
             ],
             [
              0.4444444444444444,
              "#bd3786"
             ],
             [
              0.5555555555555556,
              "#d8576b"
             ],
             [
              0.6666666666666666,
              "#ed7953"
             ],
             [
              0.7777777777777778,
              "#fb9f3a"
             ],
             [
              0.8888888888888888,
              "#fdca26"
             ],
             [
              1,
              "#f0f921"
             ]
            ],
            "type": "histogram2d"
           }
          ],
          "histogram2dcontour": [
           {
            "colorbar": {
             "outlinewidth": 0,
             "ticks": ""
            },
            "colorscale": [
             [
              0,
              "#0d0887"
             ],
             [
              0.1111111111111111,
              "#46039f"
             ],
             [
              0.2222222222222222,
              "#7201a8"
             ],
             [
              0.3333333333333333,
              "#9c179e"
             ],
             [
              0.4444444444444444,
              "#bd3786"
             ],
             [
              0.5555555555555556,
              "#d8576b"
             ],
             [
              0.6666666666666666,
              "#ed7953"
             ],
             [
              0.7777777777777778,
              "#fb9f3a"
             ],
             [
              0.8888888888888888,
              "#fdca26"
             ],
             [
              1,
              "#f0f921"
             ]
            ],
            "type": "histogram2dcontour"
           }
          ],
          "mesh3d": [
           {
            "colorbar": {
             "outlinewidth": 0,
             "ticks": ""
            },
            "type": "mesh3d"
           }
          ],
          "parcoords": [
           {
            "line": {
             "colorbar": {
              "outlinewidth": 0,
              "ticks": ""
             }
            },
            "type": "parcoords"
           }
          ],
          "pie": [
           {
            "automargin": true,
            "type": "pie"
           }
          ],
          "scatter": [
           {
            "fillpattern": {
             "fillmode": "overlay",
             "size": 10,
             "solidity": 0.2
            },
            "type": "scatter"
           }
          ],
          "scatter3d": [
           {
            "line": {
             "colorbar": {
              "outlinewidth": 0,
              "ticks": ""
             }
            },
            "marker": {
             "colorbar": {
              "outlinewidth": 0,
              "ticks": ""
             }
            },
            "type": "scatter3d"
           }
          ],
          "scattercarpet": [
           {
            "marker": {
             "colorbar": {
              "outlinewidth": 0,
              "ticks": ""
             }
            },
            "type": "scattercarpet"
           }
          ],
          "scattergeo": [
           {
            "marker": {
             "colorbar": {
              "outlinewidth": 0,
              "ticks": ""
             }
            },
            "type": "scattergeo"
           }
          ],
          "scattergl": [
           {
            "marker": {
             "colorbar": {
              "outlinewidth": 0,
              "ticks": ""
             }
            },
            "type": "scattergl"
           }
          ],
          "scattermap": [
           {
            "marker": {
             "colorbar": {
              "outlinewidth": 0,
              "ticks": ""
             }
            },
            "type": "scattermap"
           }
          ],
          "scattermapbox": [
           {
            "marker": {
             "colorbar": {
              "outlinewidth": 0,
              "ticks": ""
             }
            },
            "type": "scattermapbox"
           }
          ],
          "scatterpolar": [
           {
            "marker": {
             "colorbar": {
              "outlinewidth": 0,
              "ticks": ""
             }
            },
            "type": "scatterpolar"
           }
          ],
          "scatterpolargl": [
           {
            "marker": {
             "colorbar": {
              "outlinewidth": 0,
              "ticks": ""
             }
            },
            "type": "scatterpolargl"
           }
          ],
          "scatterternary": [
           {
            "marker": {
             "colorbar": {
              "outlinewidth": 0,
              "ticks": ""
             }
            },
            "type": "scatterternary"
           }
          ],
          "surface": [
           {
            "colorbar": {
             "outlinewidth": 0,
             "ticks": ""
            },
            "colorscale": [
             [
              0,
              "#0d0887"
             ],
             [
              0.1111111111111111,
              "#46039f"
             ],
             [
              0.2222222222222222,
              "#7201a8"
             ],
             [
              0.3333333333333333,
              "#9c179e"
             ],
             [
              0.4444444444444444,
              "#bd3786"
             ],
             [
              0.5555555555555556,
              "#d8576b"
             ],
             [
              0.6666666666666666,
              "#ed7953"
             ],
             [
              0.7777777777777778,
              "#fb9f3a"
             ],
             [
              0.8888888888888888,
              "#fdca26"
             ],
             [
              1,
              "#f0f921"
             ]
            ],
            "type": "surface"
           }
          ],
          "table": [
           {
            "cells": {
             "fill": {
              "color": "#EBF0F8"
             },
             "line": {
              "color": "white"
             }
            },
            "header": {
             "fill": {
              "color": "#C8D4E3"
             },
             "line": {
              "color": "white"
             }
            },
            "type": "table"
           }
          ]
         },
         "layout": {
          "annotationdefaults": {
           "arrowcolor": "#2a3f5f",
           "arrowhead": 0,
           "arrowwidth": 1
          },
          "autotypenumbers": "strict",
          "coloraxis": {
           "colorbar": {
            "outlinewidth": 0,
            "ticks": ""
           }
          },
          "colorscale": {
           "diverging": [
            [
             0,
             "#8e0152"
            ],
            [
             0.1,
             "#c51b7d"
            ],
            [
             0.2,
             "#de77ae"
            ],
            [
             0.3,
             "#f1b6da"
            ],
            [
             0.4,
             "#fde0ef"
            ],
            [
             0.5,
             "#f7f7f7"
            ],
            [
             0.6,
             "#e6f5d0"
            ],
            [
             0.7,
             "#b8e186"
            ],
            [
             0.8,
             "#7fbc41"
            ],
            [
             0.9,
             "#4d9221"
            ],
            [
             1,
             "#276419"
            ]
           ],
           "sequential": [
            [
             0,
             "#0d0887"
            ],
            [
             0.1111111111111111,
             "#46039f"
            ],
            [
             0.2222222222222222,
             "#7201a8"
            ],
            [
             0.3333333333333333,
             "#9c179e"
            ],
            [
             0.4444444444444444,
             "#bd3786"
            ],
            [
             0.5555555555555556,
             "#d8576b"
            ],
            [
             0.6666666666666666,
             "#ed7953"
            ],
            [
             0.7777777777777778,
             "#fb9f3a"
            ],
            [
             0.8888888888888888,
             "#fdca26"
            ],
            [
             1,
             "#f0f921"
            ]
           ],
           "sequentialminus": [
            [
             0,
             "#0d0887"
            ],
            [
             0.1111111111111111,
             "#46039f"
            ],
            [
             0.2222222222222222,
             "#7201a8"
            ],
            [
             0.3333333333333333,
             "#9c179e"
            ],
            [
             0.4444444444444444,
             "#bd3786"
            ],
            [
             0.5555555555555556,
             "#d8576b"
            ],
            [
             0.6666666666666666,
             "#ed7953"
            ],
            [
             0.7777777777777778,
             "#fb9f3a"
            ],
            [
             0.8888888888888888,
             "#fdca26"
            ],
            [
             1,
             "#f0f921"
            ]
           ]
          },
          "colorway": [
           "#636efa",
           "#EF553B",
           "#00cc96",
           "#ab63fa",
           "#FFA15A",
           "#19d3f3",
           "#FF6692",
           "#B6E880",
           "#FF97FF",
           "#FECB52"
          ],
          "font": {
           "color": "#2a3f5f"
          },
          "geo": {
           "bgcolor": "white",
           "lakecolor": "white",
           "landcolor": "#E5ECF6",
           "showlakes": true,
           "showland": true,
           "subunitcolor": "white"
          },
          "hoverlabel": {
           "align": "left"
          },
          "hovermode": "closest",
          "mapbox": {
           "style": "light"
          },
          "paper_bgcolor": "white",
          "plot_bgcolor": "#E5ECF6",
          "polar": {
           "angularaxis": {
            "gridcolor": "white",
            "linecolor": "white",
            "ticks": ""
           },
           "bgcolor": "#E5ECF6",
           "radialaxis": {
            "gridcolor": "white",
            "linecolor": "white",
            "ticks": ""
           }
          },
          "scene": {
           "xaxis": {
            "backgroundcolor": "#E5ECF6",
            "gridcolor": "white",
            "gridwidth": 2,
            "linecolor": "white",
            "showbackground": true,
            "ticks": "",
            "zerolinecolor": "white"
           },
           "yaxis": {
            "backgroundcolor": "#E5ECF6",
            "gridcolor": "white",
            "gridwidth": 2,
            "linecolor": "white",
            "showbackground": true,
            "ticks": "",
            "zerolinecolor": "white"
           },
           "zaxis": {
            "backgroundcolor": "#E5ECF6",
            "gridcolor": "white",
            "gridwidth": 2,
            "linecolor": "white",
            "showbackground": true,
            "ticks": "",
            "zerolinecolor": "white"
           }
          },
          "shapedefaults": {
           "line": {
            "color": "#2a3f5f"
           }
          },
          "ternary": {
           "aaxis": {
            "gridcolor": "white",
            "linecolor": "white",
            "ticks": ""
           },
           "baxis": {
            "gridcolor": "white",
            "linecolor": "white",
            "ticks": ""
           },
           "bgcolor": "#E5ECF6",
           "caxis": {
            "gridcolor": "white",
            "linecolor": "white",
            "ticks": ""
           }
          },
          "title": {
           "x": 0.05
          },
          "xaxis": {
           "automargin": true,
           "gridcolor": "white",
           "linecolor": "white",
           "ticks": "",
           "title": {
            "standoff": 15
           },
           "zerolinecolor": "white",
           "zerolinewidth": 2
          },
          "yaxis": {
           "automargin": true,
           "gridcolor": "white",
           "linecolor": "white",
           "ticks": "",
           "title": {
            "standoff": 15
           },
           "zerolinecolor": "white",
           "zerolinewidth": 2
          }
         }
        },
        "title": {
         "text": "Model Predictions Comparison"
        },
        "xaxis": {
         "title": {
          "text": "Date"
         }
        },
        "yaxis": {
         "title": {
          "text": "Sales"
         }
        }
       }
      }
     },
     "metadata": {},
     "output_type": "display_data"
    }
   ],
   "source": [
    "# Load and prepare data\n",
    "data = load_data()\n",
    "if data is not None:\n",
    "    weekly_sales = prepare_time_series(data)\n",
    "    \n",
    "    # EDA\n",
    "    plot_time_series(weekly_sales)\n",
    "    seasonal_period = detect_seasonality(weekly_sales)\n",
    "    \n",
    "    # Model training and evaluation\n",
    "    model_results = evaluate_models(weekly_sales)\n",
    "else:\n",
    "    print(\"Failed to load data\")"
   ]
  }
 ],
 "metadata": {
  "kernelspec": {
   "display_name": "Python 3",
   "language": "python",
   "name": "python3"
  },
  "language_info": {
   "codemirror_mode": {
    "name": "ipython",
    "version": 3
   },
   "file_extension": ".py",
   "mimetype": "text/x-python",
   "name": "python",
   "nbconvert_exporter": "python",
   "pygments_lexer": "ipython3",
   "version": "3.10.9"
  }
 },
 "nbformat": 4,
 "nbformat_minor": 5
}
