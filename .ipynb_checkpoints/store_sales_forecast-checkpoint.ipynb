{
 "cells": [
  {
   "cell_type": "markdown",
   "metadata": {},
   "source": [
    "<p style=\"text-align:center; \">\n",
    "# Store Sales Time Series Forecasting\n",
    "</p>\n",
    "\n",
    "This notebook implements time series forecasting for store sales data using multiple models (SARIMA and Prophet) to predict future trends based on historical data."
   ]
  },
  {
   "cell_type": "markdown",
   "metadata": {},
   "source": [
    "1. Import Required Libraries"
   ]
  },
  {
   "cell_type": "code",
   "execution_count": null,
   "metadata": {},
   "source": [
    "import pandas as pd\n",
    "import numpy as np\n",
    "from statsmodels.tsa.statespace.sarimax import SARIMAX\n",
    "from prophet import Prophet\n",
    "from sklearn.metrics import mean_absolute_error, mean_squared_error\n",
    "import matplotlib.pyplot as plt\n",
    "import seaborn as sns\n",
    "from statsmodels.graphics.tsaplots import plot_acf, plot_pacf\n",
    "import plotly.express as px\n",
    "import plotly.graph_objects as go\n",
    "from plotly.subplots import make_subplots\n",
    "\n",
    "# Set style for better visualizations\n",
    "plt.style.use('seaborn')\n",
    "%matplotlib inline"
   ]
  },
  {
   "cell_type": "markdown",
   "metadata": {},
   "source": [
    "2. Load and Merge Datasets"
   ]
  },
  {
   "cell_type": "code",
   "execution_count": null,
   "metadata": {},
   "source": [
    "# Load all datasets\n",
    "train_df = pd.read_csv('train.csv')\n",
    "test_df = pd.read_csv('test.csv')\n",
    "stores_df = pd.read_csv('stores.csv')\n",
    "features_df = pd.read_csv('features.csv')\n",
    "\n",
    "# Display basic information about datasets\n",
    "print(\"Train Dataset Info:\")\n",
    "print(train_df.info())\n",
    "print(\"\\nTest Dataset Info:\")\n",
    "print(test_df.info())\n",
    "print(\"\\nStores Dataset Info:\")\n",
    "print(stores_df.info())\n",
    "print(\"\\nFeatures Dataset Info:\")\n",
    "print(features_df.info())"
   ]
  },
  {
   "cell_type": "markdown",
   "metadata": {},
   "source": [
    "3. Data Preprocessing"
   ]
  },
  {
   "cell_type": "code",
   "execution_count": null,
   "metadata": {},
   "source": [
    "# Convert date columns to datetime\n",
    "train_df['Date'] = pd.to_datetime(train_df['Date'])\n",
    "test_df['Date'] = pd.to_datetime(test_df['Date'])\n",
    "features_df['Date'] = pd.to_datetime(features_df['Date'])\n",
    "\n",
    "# Merge datasets\n",
    "train_data = train_df.merge(stores_df, on='Store', how='left')\n",
    "train_data = train_data.merge(features_df, on=['Store', 'Date'], how='left')\n",
    "\n",
    "# Sort by date\n",
    "train_data = train_data.sort_values('Date')"
   ]
  },
  {
   "cell_type": "markdown",
   "metadata": {},
   "source": [
    "4. Exploratory Data Analysis"
   ]
  },
  {
   "cell_type": "code",
   "execution_count": null,
   "metadata": {},
   "source": [
    "# Time series plot of sales\n",
    "plt.figure(figsize=(15, 6))\n",
    "sns.lineplot(data=train_data, x='Date', y='Weekly_Sales')\n",
    "plt.title('Weekly Sales Over Time')\n",
    "plt.xticks(rotation=45)\n",
    "plt.show()\n",
    "\n",
    "# Sales distribution by store type\n",
    "plt.figure(figsize=(10, 6))\n",
    "sns.boxplot(data=train_data, x='Type', y='Weekly_Sales')\n",
    "plt.title('Sales Distribution by Store Type')\n",
    "plt.show()"
   ]
  },
  {
   "cell_type": "markdown",
   "metadata": {},
   "source": [
    "5. Feature Engineering"
   ]
  },
  {
   "cell_type": "code",
   "execution_count": null,
   "metadata": {},
   "source": [
    "# Extract time-based features\n",
    "train_data['Year'] = train_data['Date'].dt.year\n",
    "train_data['Month'] = train_data['Date'].dt.month\n",
    "train_data['Week'] = train_data['Date'].dt.isocalendar().week\n",
    "\n",
    "# Calculate lag features\n",
    "train_data['Sales_Lag1'] = train_data.groupby('Store')['Weekly_Sales'].shift(1)\n",
    "train_data['Sales_Lag2'] = train_data.groupby('Store')['Weekly_Sales'].shift(2)"
   ]
  },
  {
   "cell_type": "markdown",
   "metadata": {},
   "source": [
    "6. Model Development - SARIMA"
   ]
  },
  {
   "cell_type": "code",
   "execution_count": null,
   "metadata": {},
   "source": [
    "def train_sarima(data, store_id=1):\n",
    "    # Filter data for specific store\n",
    "    store_data = data[data['Store'] == store_id].sort_values('Date')\n",
    "    \n",
    "    # Fit SARIMA model\n",
    "    model = SARIMAX(store_data['Weekly_Sales'],\n",
    "                    order=(1, 1, 1),\n",
    "                    seasonal_order=(1, 1, 1, 52))\n",
    "    results = model.fit()\n",
    "    \n",
    "    return results\n",
    "\n",
    "# Train model for store 1\n",
    "sarima_model = train_sarima(train_data, store_id=1)"
   ]
  },
  {
   "cell_type": "markdown",
   "metadata": {},
   "source": [
    "7. Model Development - Prophet"
   ]
  },
  {
   "cell_type": "code",
   "execution_count": null,
   "metadata": {},
   "source": [
    "def train_prophet(data, store_id=1):\n",
    "    # Filter and prepare data for Prophet\n",
    "    store_data = data[data['Store'] == store_id].sort_values('Date')\n",
    "    prophet_data = store_data[['Date', 'Weekly_Sales']].rename(\n",
    "        columns={'Date': 'ds', 'Weekly_Sales': 'y'})\n",
    "    \n",
    "    # Initialize and train Prophet model\n",
    "    model = Prophet(yearly_seasonality=True,\n",
    "                   weekly_seasonality=True,\n",
    "                   daily_seasonality=False)\n",
    "    model.fit(prophet_data)\n",
    "    \n",
    "    return model\n",
    "\n",
    "# Train Prophet model for store 1\n",
    "prophet_model = train_prophet(train_data, store_id=1)"
   ]
  },
  {
   "cell_type": "markdown",
   "metadata": {},
   "source": [
    "8. Model Evaluation"
   ]
  },
  {
   "cell_type": "code",
   "execution_count": null,
   "metadata": {},
   "source": [
    "def evaluate_models(y_true, y_pred_sarima, y_pred_prophet):\n",
    "    # Calculate metrics for both models\n",
    "    metrics = {}\n",
    "    \n",
    "    for name, pred in [('SARIMA', y_pred_sarima), ('Prophet', y_pred_prophet)]:\n",
    "        mae = mean_absolute_error(y_true, pred)\n",
    "        rmse = np.sqrt(mean_squared_error(y_true, pred))\n",
    "        mape = np.mean(np.abs((y_true - pred) / y_true)) * 100\n",
    "        \n",
    "        metrics[name] = {\n",
    "            'MAE': mae,\n",
    "            'RMSE': rmse,\n",
    "            'MAPE': mape\n",
    "        }\n",
    "        \n",
    "        print(f'{name} Metrics:')\n",
    "        print(f'MAE: {mae:.2f}')\n",
    "        print(f'RMSE: {rmse:.2f}')\n",
    "        print(f'MAPE: {mape:.2f}%\\n')\n",
    "    \n",
    "    return metrics"
   ]
  },
  {
   "cell_type": "markdown",
   "metadata": {},
   "source": [
    "9. Visualization of Results"
   ]
  },
  {
   "cell_type": "code",
   "execution_count": null,
   "metadata": {},
   "source": [
    "def plot_forecasts(actual, sarima_pred, prophet_pred, dates):\n",
    "    fig = go.Figure()\n",
    "    \n",
    "    # Plot actual values\n",
    "    fig.add_trace(go.Scatter(x=dates, y=actual,\n",
    "                            mode='lines',\n",
    "                            name='Actual Sales',\n",
    "                            line=dict(color='blue')))\n",
    "    \n",
    "    # Plot SARIMA predictions\n",
    "    fig.add_trace(go.Scatter(x=dates, y=sarima_pred,\n",
    "                            mode='lines',\n",
    "                            name='SARIMA Forecast',\n",
    "                            line=dict(color='red')))\n",
    "    \n",
    "    # Plot Prophet predictions\n",
    "    fig.add_trace(go.Scatter(x=dates, y=prophet_pred,\n",
    "                            mode='lines',\n",
    "                            name='Prophet Forecast',\n",
    "                            line=dict(color='green')))\n",
    "    \n",
    "    fig.update_layout(title='Sales Forecasts Comparison',\n",
    "                      xaxis_title='Date',\n",
    "                      yaxis_title='Weekly Sales',\n",
    "                      template='plotly_white')\n",
    "    \n",
    "    fig.show()"
   ]
  }
 ],
 "metadata": {
  "kernelspec": {
   "display_name": "Python 3",
   "language": "python",
   "name": "python3"
  },
  "language_info": {
   "codemirror_mode": {
    "name": "ipython",
    "version": 3
   },
   "file_extension": ".py",
   "mimetype": "text/x-python",
   "name": "python",
   "nbconvert_exporter": "python",
   "pygments_lexer": "ipython3",
   "version": "3.8.0"
  }
 },
 "nbformat": 4,
 "nbformat_minor": 4
}
