{
 "cells": [
  {
   "cell_type": "markdown",
   "metadata": {},
   "source": [
    "<p style=\"text-align:center; \">\n",
    "# Store Sales Time Series Forecasting\n",
    "</p>\n",
    "\n",
    "This notebook implements time series forecasting for store sales data using SARIMA and Prophet models."
   ]
  },
  {
   "cell_type": "markdown",
   "metadata": {},
   "source": [
    "1. Import Required Libraries"
   ]
  },
  {
   "cell_type": "code",
   "execution_count": null,
   "metadata": {},
   "source": [
    "import pandas as pd\n",
    "import numpy as np\n",
    "from statsmodels.tsa.statespace.sarimax import SARIMAX\n",
    "from prophet import Prophet\n",
    "from sklearn.metrics import mean_absolute_error, mean_squared_error\n",
    "import matplotlib.pyplot as plt\n",
    "import seaborn as sns\n",
    "from statsmodels.graphics.tsaplots import plot_acf, plot_pacf\n",
    "import plotly.express as px\n",
    "import plotly.graph_objects as go\n",
    "from plotly.subplots import make_subplots\n",
    "\n",
    "# Set default style for visualizations\n",
    "plt.style.use('default')\n",
    "%matplotlib inline"
   ]
  },
  {
   "cell_type": "markdown",
   "metadata": {},
   "source": [
    "2. Load and Merge Datasets"
   ]
  },
  {
   "cell_type": "code",
   "execution_count": null,
   "metadata": {},
   "source": [
    "# Load all datasets with absolute paths\n",
    "train_df = pd.read_csv('d:/intern/task3/train.csv')\n",
    "test_df = pd.read_csv('d:/intern/task3/test.csv')\n",
    "stores_df = pd.read_csv('d:/intern/task3/stores.csv')\n",
    "features_df = pd.read_csv('d:/intern/task3/features.csv')\n",
    "\n",
    "# Display basic information about datasets\n",
    "print(\"Train Dataset Info:\")\n",
    "print(train_df.info())\n",
    "print(\"\\nTest Dataset Info:\")\n",
    "print(test_df.info())\n",
    "print(\"\\nStores Dataset Info:\")\n",
    "print(stores_df.info())\n",
    "print(\"\\nFeatures Dataset Info:\")\n",
    "print(features_df.info())"
   ]
  },
  {
   "cell_type": "markdown",
   "metadata": {},
   "source": [
    "3. Data Preprocessing"
   ]
  },
  {
   "cell_type": "code",
   "execution_count": null,
   "metadata": {},
   "source": [
    "# Convert date columns to datetime\n",
    "train_df['Date'] = pd.to_datetime(train_df['Date'])\n",
    "test_df['Date'] = pd.to_datetime(test_df['Date'])\n",
    "features_df['Date'] = pd.to_datetime(features_df['Date'])\n",
    "\n",
    "# Merge datasets\n",
    "train_data = train_df.merge(stores_df, on='Store', how='left')\n",
    "train_data = train_data.merge(features_df, on=['Store', 'Date'], how='left')\n",
    "\n",
    "# Sort by date\n",
    "train_data = train_data.sort_values('Date')\n",
    "\n",
    "# Display first few rows\n",
    "print(\"\\nMerged Dataset Head:\")\n",
    "print(train_data.head())"
   ]
  },
  {
   "cell_type": "markdown",
   "metadata": {},
   "source": [
    "4. Exploratory Data Analysis"
   ]
  },
  {
   "cell_type": "code",
   "execution_count": null,
   "metadata": {},
   "source": [
    "# Time series plot of sales\n",
    "plt.figure(figsize=(15, 6))\n",
    "plt.plot(train_data['Date'], train_data['Weekly_Sales'])\n",
    "plt.title('Weekly Sales Over Time')\n",
    "plt.xticks(rotation=45)\n",
    "plt.show()\n",
    "\n",
    "# Sales distribution by store type\n",
    "plt.figure(figsize=(10, 6))\n",
    "sns.boxplot(data=train_data, x='Type', y='Weekly_Sales')\n",
    "plt.title('Sales Distribution by Store Type')\n",
    "plt.show()\n",
    "\n",
    "# Monthly sales trends\n",
    "train_data['Month'] = train_data['Date'].dt.month\n",
    "monthly_sales = train_data.groupby('Month')['Weekly_Sales'].mean().reset_index()\n",
    "\n",
    "plt.figure(figsize=(12, 6))\n",
    "plt.bar(monthly_sales['Month'], monthly_sales['Weekly_Sales'])\n",
    "plt.title('Average Monthly Sales')\n",
    "plt.xlabel('Month')\n",
    "plt.ylabel('Average Weekly Sales')\n",
    "plt.show()"
   ]
  },
  {
   "cell_type": "markdown",
   "metadata": {},
   "source": [
    "5. Prepare Data for Store 1"
   ]
  },
  {
   "cell_type": "code",
   "execution_count": null,
   "metadata": {},
   "source": [
    "# Filter data for Store 1\n",
    "store_1_data = train_data[train_data['Store'] == 1].sort_values('Date')\n",
    "\n",
    "# Create time series for Store 1\n",
    "store_1_sales = store_1_data.set_index('Date')['Weekly_Sales']\n",
    "\n",
    "# Plot Store 1 sales\n",
    "plt.figure(figsize=(15, 6))\n",
    "plt.plot(store_1_sales.index, store_1_sales.values)\n",
    "plt.title('Store 1 Weekly Sales')\n",
    "plt.show()"
   ]
  },
  {
   "cell_type": "markdown",
   "metadata": {},
   "source": [
    "6. SARIMA Model"
   ]
  },
  {
   "cell_type": "code",
   "execution_count": null,
   "metadata": {},
   "source": [
    "# Fit SARIMA model for Store 1\n",
    "sarima_model = SARIMAX(store_1_sales,\n",
    "                       order=(1, 1, 1),\n",
    "                       seasonal_order=(1, 1, 1, 52))\n",
    "sarima_results = sarima_model.fit()\n",
    "\n",
    "# Generate predictions\n",
    "sarima_forecast = sarima_results.get_forecast(steps=8)\n",
    "sarima_mean = sarima_forecast.predicted_mean\n",
    "\n",
    "# Plot SARIMA results\n",
    "plt.figure(figsize=(15, 6))\n",
    "plt.plot(store_1_sales.index, store_1_sales.values, label='Actual')\n",
    "plt.plot(sarima_mean.index, sarima_mean.values, 'r--', label='SARIMA Forecast')\n",
    "plt.title('Store 1 Sales - SARIMA Forecast')\n",
    "plt.legend()\n",
    "plt.show()"
   ]
  },
  {
   "cell_type": "markdown",
   "metadata": {},
   "source": [
    "7. Prophet Model"
   ]
  },
  {
   "cell_type": "code",
   "execution_count": null,
   "metadata": {},
   "source": [
    "# Prepare data for Prophet\n",
    "prophet_data = store_1_data[['Date', 'Weekly_Sales']].rename(\n",
    "    columns={'Date': 'ds', 'Weekly_Sales': 'y'})\n",
    "\n",
    "# Initialize and train Prophet model\n",
    "prophet_model = Prophet(yearly_seasonality=True,\n",
    "                       weekly_seasonality=True,\n",
    "                       daily_seasonality=False)\n",
    "prophet_model.fit(prophet_data)\n",
    "\n",
    "# Create future dates for forecasting\n",
    "future_dates = prophet_model.make_future_dataframe(periods=8, freq='W')\n",
    "prophet_forecast = prophet_model.predict(future_dates)\n",
    "\n",
    "# Plot Prophet results\n",
    "fig = prophet_model.plot(prophet_forecast)\n",
    "plt.title('Store 1 Sales - Prophet Forecast')\n",
    "plt.show()"
   ]
  },
  {
   "cell_type": "markdown",
   "metadata": {},
   "source": [
    "8. Compare Model Performance"
   ]
  },
  {
   "cell_type": "code",
   "execution_count": null,
   "metadata": {},
   "source": [
    "# Calculate metrics for both models\n",
    "actual_values = store_1_sales[-8:]\n",
    "\n",
    "# SARIMA metrics\n",
    "sarima_mae = mean_absolute_error(actual_values, sarima_mean)\n",
    "sarima_rmse = np.sqrt(mean_squared_error(actual_values, sarima_mean))\n",
    "sarima_mape = np.mean(np.abs((actual_values - sarima_mean) / actual_values)) * 100\n",
    "\n",
    "print('SARIMA Metrics:')\n",
    "print(f'MAE: {sarima_mae:.2f}')\n",
    "print(f'RMSE: {sarima_rmse:.2f}')\n",
    "print(f'MAPE: {sarima_mape:.2f}%\\n')\n",
    "\n",
    "# Prophet metrics\n",
    "prophet_predictions = prophet_forecast.tail(8)['yhat']\n",
    "prophet_mae = mean_absolute_error(actual_values, prophet_predictions)\n",
    "prophet_rmse = np.sqrt(mean_squared_error(actual_values, prophet_predictions))\n",
    "prophet_mape = np.mean(np.abs((actual_values - prophet_predictions) / actual_values)) * 100\n",
    "\n",
    "print('Prophet Metrics:')\n",
    "print(f'MAE: {prophet_mae:.2f}')\n",
    "print(f'RMSE: {prophet_rmse:.2f}')\n",
    "print(f'MAPE: {prophet_mape:.2f}%')"
   ]
  },
  {
   "cell_type": "markdown",
   "metadata": {},
   "source": [
    "9. Visualize Forecasts Together"
   ]
  },
  {
   "cell_type": "code",
   "execution_count": null,
   "metadata": {},
   "source": [
    "# Create interactive plot with both forecasts\n",
    "fig = go.Figure()\n",
    "\n",
    "# Plot actual values\n",
    "fig.add_trace(go.Scatter(x=store_1_sales.index, \n",
    "                        y=store_1_sales.values,\n",
    "                        mode='lines',\n",
    "                        name='Actual Sales',\n",
    "                        line=dict(color='blue')))\n",
    "\n",
    "# Plot SARIMA forecast\n",
    "fig.add_trace(go.Scatter(x=sarima_mean.index, \n",
    "                        y=sarima_mean.values,\n",
    "                        mode='lines',\n",
    "                        name='SARIMA Forecast',\n",
    "                        line=dict(color='red', dash='dash')))\n",
    "\n",
    "# Plot Prophet forecast\n",
    "fig.add_trace(go.Scatter(x=prophet_forecast.tail(8)['ds'], \n",
    "                        y=prophet_forecast.tail(8)['yhat'],\n",
    "                        mode='lines',\n",
    "                        name='Prophet Forecast',\n",
    "                        line=dict(color='green', dash='dash')))\n",
    "\n",
    "fig.update_layout(title='Store 1 Sales Forecasts Comparison',\n",
    "                  xaxis_title='Date',\n",
    "                  yaxis_title='Weekly Sales',\n",
    "                  template='plotly_white')\n",
    "\n",
    "fig.show()"
   ]
  }
 ],
 "metadata": {
  "kernelspec": {
   "display_name": "Python 3",
   "language": "python",
   "name": "python3"
  },
  "language_info": {
   "codemirror_mode": {
    "name": "ipython",
    "version": 3
   },
   "file_extension": ".py",
   "mimetype": "text/x-python",
   "name": "python",
   "nbconvert_exporter": "python",
   "pygments_lexer": "ipython3",
   "version": "3.8.0"
  }
 },
 "nbformat": 4,
 "nbformat_minor": 4
}
